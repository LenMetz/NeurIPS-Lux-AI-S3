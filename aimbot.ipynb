{
 "cells": [
  {
   "cell_type": "code",
   "execution_count": 36,
   "id": "af8ef0bb-7846-46f1-826e-247811f97bfe",
   "metadata": {},
   "outputs": [],
   "source": [
    "import numpy as np\n",
    "import matplotlib.pyplot as plt\n",
    "import torch\n",
    "import time"
   ]
  },
  {
   "cell_type": "code",
   "execution_count": 68,
   "id": "21f3fdf3-fe87-408b-8926-1d0bd558d833",
   "metadata": {},
   "outputs": [],
   "source": [
    "a = np.zeros((24,24))\n",
    "n = np.random.randint(100,150)\n",
    "p = np.random.randint(0,24,(n,2))\n",
    "for node in p:\n",
    "    a[*node] = 1\n",
    "    "
   ]
  },
  {
   "cell_type": "code",
   "execution_count": 69,
   "id": "43fd48eb-d77d-4b68-86cc-b9efcb2f0a23",
   "metadata": {},
   "outputs": [
    {
     "data": {
      "text/plain": [
       "<matplotlib.image.AxesImage at 0x1d768dbaf10>"
      ]
     },
     "execution_count": 69,
     "metadata": {},
     "output_type": "execute_result"
    },
    {
     "data": {
      "image/png": "[encoded data removed]",
      "text/plain": [
       "<Figure size 640x480 with 1 Axes>"
      ]
     },
     "metadata": {},
     "output_type": "display_data"
    }
   ],
   "source": [
    "plt.imshow(a.T)"
   ]
  },
  {
   "cell_type": "code",
   "execution_count": 70,
   "id": "b8868cc1-8608-452e-abd8-f6f52d350320",
   "metadata": {},
   "outputs": [],
   "source": [
    "cost = 20\n",
    "drop_off = 0.35\n",
    "weight = np.full((3,3),cost*drop_off)\n",
    "weight[1,1] = cost\n",
    "indices = []\n",
    "for x in range(24):\n",
    "    for y in range(24):\n",
    "        indices.append([x,y])"
   ]
  },
  {
   "cell_type": "code",
   "execution_count": 71,
   "id": "c30f0111-9146-4e61-9d7c-4568f06f84c7",
   "metadata": {},
   "outputs": [
    {
     "name": "stdout",
     "output_type": "stream",
     "text": [
      "0.0020017623901367188\n"
     ]
    }
   ],
   "source": [
    "start = time.time()\n",
    "b = torch.nn.functional.conv2d(torch.tensor(np.pad(a,1)).unsqueeze(0).unsqueeze(0),torch.tensor(weight).unsqueeze(0).unsqueeze(0),stride=1).squeeze().numpy()\n",
    "b[b<cost] = 0\n",
    "print(time.time()-start)"
   ]
  },
  {
   "cell_type": "code",
   "execution_count": 72,
   "id": "6cb9f8b6-fb7d-4da4-a46b-335bc45c4313",
   "metadata": {},
   "outputs": [
    {
     "data": {
      "text/plain": [
       "<matplotlib.image.AxesImage at 0x1d768e09d90>"
      ]
     },
     "execution_count": 72,
     "metadata": {},
     "output_type": "execute_result"
    },
    {
     "data": {
      "image/png": "[encoded data removed]",
      "text/plain": [
       "<Figure size 640x480 with 1 Axes>"
      ]
     },
     "metadata": {},
     "output_type": "display_data"
    }
   ],
   "source": [
    "plt.imshow(b.T)"
   ]
  },
  {
   "cell_type": "code",
   "execution_count": 60,
   "id": "5671d762-fb88-482f-b308-179c885a8c95",
   "metadata": {},
   "outputs": [
    {
     "name": "stdout",
     "output_type": "stream",
     "text": [
      "[[ 5  7 16  2 22 20  1  8  4 10  9  3 18 13 11 14  0 17 19 23  6 15 12 21]\n",
      " [ 0 23 15 13 22 20  5 16 19  3  4 11 21  2 12  7  1 17 10  6 18 14  9  8]\n",
      " [11 12 16 21 22  4  2 23 15  9 20 19 17 18  6 13 10 14  1  8  5  0  7  3]\n",
      " [10  3 14  9  5 17 19 11 12 22 20  4  7  2  6 23 16 13 18  1 15 21  0  8]]\n",
      "[[[ 0  0  0  0  0  0  0  0  0  0  0  0  0  0  0  0  0  0  0  0  0  0  0\n",
      "    0]\n",
      "  [ 0  0  0  0  0  0  0  0  0  0  0  0  0  0  0  0  0  0  0  0  0  0  0\n",
      "    0]\n",
      "  [ 0  0  0  0  0  0  0  0  0  0  0  0  0  0  0  0  0  0  0  0  0  0  0\n",
      "    0]\n",
      "  [ 0  0  0  0  0  0  0  0  0  0  0  0  0  0  0  0  0  0  0  0  0  0  0\n",
      "    0]]\n",
      "\n",
      " [[ 5  7 16  2 22 20  1  8  4 10  9  3 18 13 11 14  0 17 19 23  6 15 12\n",
      "   21]\n",
      "  [ 0 23 15 13 22 20  5 16 19  3  4 11 21  2 12  7  1 17 10  6 18 14  9\n",
      "    8]\n",
      "  [11 12 16 21 22  4  2 23 15  9 20 19 17 18  6 13 10 14  1  8  5  0  7\n",
      "    3]\n",
      "  [10  3 14  9  5 17 19 11 12 22 20  4  7  2  6 23 16 13 18  1 15 21  0\n",
      "    8]]]\n"
     ]
    }
   ],
   "source": [
    "a = np.random.uniform(0,1,(24,24))\n",
    "best = np.argpartition(a, -4)[-4:]\n",
    "print(best)\n",
    "print(np.array(np.unravel_index(best, (24,24))))"
   ]
  },
  {
   "cell_type": "code",
   "execution_count": null,
   "id": "05b52c15-4d7b-4b88-bef0-f724f86f77b8",
   "metadata": {},
   "outputs": [],
   "source": []
  }
 ],
 "metadata": {
  "kernelspec": {
   "display_name": "Python 3 (ipykernel)",
   "language": "python",
   "name": "python3"
  },
  "language_info": {
   "codemirror_mode": {
    "name": "ipython",
    "version": 3
   },
   "file_extension": ".py",
   "mimetype": "text/x-python",
   "name": "python",
   "nbconvert_exporter": "python",
   "pygments_lexer": "ipython3",
   "version": "3.11.11"
  }
 },
 "nbformat": 4,
 "nbformat_minor": 5
}
